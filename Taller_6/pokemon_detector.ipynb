{
 "cells": [
  {
   "cell_type": "code",
   "execution_count": 9,
   "metadata": {},
   "outputs": [],
   "source": [
    "import matplotlib.pyplot as mplt\n",
    "from sklearn import svm\n",
    "import numpy as np\n",
    "import csv\n",
    "import cv2\n",
    "import os\n",
    "\n",
    "# set matplotlib to print inline (Jupyter)\n",
    "%matplotlib inline\n",
    "\n",
    "pth = 'images/'\n",
    "refactor = False\n",
    "\n",
    "# pokemon selection"
   ]
  },
  {
   "cell_type": "code",
   "execution_count": 10,
   "metadata": {},
   "outputs": [],
   "source": [
    "# Functions\n",
    "\n",
    "def csvRead(file, filepth=pth, delimiter=','):\n",
    "    with open(filepth + file, newline='') as csv_file:\n",
    "        csv_data = csv.reader(csv_file, delimiter=delimiter)\n",
    "        return list(csv_data)[1:]\n",
    "    \n",
    "def getContours(contours):\n",
    "    mins_x, mins_y = list(), list()\n",
    "    maxs_x, maxs_y = list(), list()\n",
    "    for contour in contours:\n",
    "        cnt = [c[0] for c in contour]\n",
    "        cnt_x = [c[0] for c in cnt]\n",
    "        cnt_y = [c[1] for c in cnt]\n",
    "        mins_x.append(min(cnt_x))\n",
    "        mins_y.append(min(cnt_y))\n",
    "        maxs_x.append(max(cnt_x))\n",
    "        maxs_y.append(max(cnt_y))\n",
    "\n",
    "    dists_x = [ma-mi for ma, mi in zip(maxs_x, mins_x)]\n",
    "    dists_y = [ma-mi for ma, mi in zip(maxs_y, mins_y)]\n",
    "\n",
    "    areas = [x*y for x, y in zip(dists_x, dists_y)]\n",
    "    index_of_largest = areas.index(max(areas))\n",
    "\n",
    "    w = maxs_x[index_of_largest] - mins_x[index_of_largest]\n",
    "    h = maxs_y[index_of_largest] - mins_y[index_of_largest]\n",
    "\n",
    "    top_left_point = (mins_x[index_of_largest], mins_y[index_of_largest])\n",
    "    bottom_right_point = (maxs_x[index_of_largest], maxs_y[index_of_largest])\n",
    "\n",
    "    x, y = top_left_point[0], top_left_point[1]\n",
    "    w, h = bottom_right_point[0] - top_left_point[0], bottom_right_point[1] - top_left_point[1]\n",
    "    return (x, y, w, h)"
   ]
  },
  {
   "cell_type": "code",
   "execution_count": 11,
   "metadata": {},
   "outputs": [],
   "source": [
    "if refactor:\n",
    "    # Image refactoring\n",
    "    # Get all pokemon directories\n",
    "    pokemons = list(os.walk(pth))[0][1]\n",
    "\n",
    "    # Convert all images to jpg\n",
    "    for pokemon in pokemons:\n",
    "        full_pth = pth + pokemon + '/'\n",
    "        for image in os.listdir(full_pth):\n",
    "            img = cv2.imread(full_pth + image, cv2.IMREAD_GRAYSCALE)\n",
    "            img_color = cv2.imread(full_pth + image)\n",
    "            ret, thresh = cv2.threshold(img,220,255,cv2.THRESH_BINARY_INV)\n",
    "            _, contours, _ = cv2.findContours(thresh,cv2.RETR_TREE,cv2.CHAIN_APPROX_SIMPLE)\n",
    "            \n",
    "            box = getContours(contours)\n",
    "            max_idx = box.index(max([box[2], box[3]]))\n",
    "            min_idx = box.index(min([box[2], box[3]]))\n",
    "            \n",
    "            img_color = img_color[box[1]: box[1] + box[max_idx], box[0]: box[0] + box[max_idx]]\n",
    "            \n",
    "            img_f = np.zeros((box[max_idx], box[max_idx], 3), dtype=np.uint8)\n",
    "            img_f += 255\n",
    "            \n",
    "            left_x = box[max_idx] // 2 - img_color.shape[1] // 2\n",
    "            left_y = box[max_idx] // 2 - img_color.shape[0] // 2\n",
    "            \n",
    "            img_f[left_y: left_y + img_color.shape[0], left_x: left_x + img_color.shape[1]] = img_color\n",
    "            \n",
    "            height, width = 200, 200\n",
    "            img_f = cv2.resize(img_f, (width, height), interpolation = cv2.INTER_CUBIC)\n",
    "            \n",
    "            cv2.imwrite(full_pth + '200x200' + image, img_f)"
   ]
  },
  {
   "cell_type": "code",
   "execution_count": null,
   "metadata": {},
   "outputs": [],
   "source": []
  }
 ],
 "metadata": {
  "kernelspec": {
   "display_name": "Python 3",
   "language": "python",
   "name": "python3"
  },
  "language_info": {
   "codemirror_mode": {
    "name": "ipython",
    "version": 3
   },
   "file_extension": ".py",
   "mimetype": "text/x-python",
   "name": "python",
   "nbconvert_exporter": "python",
   "pygments_lexer": "ipython3",
   "version": "3.5.2"
  }
 },
 "nbformat": 4,
 "nbformat_minor": 2
}
