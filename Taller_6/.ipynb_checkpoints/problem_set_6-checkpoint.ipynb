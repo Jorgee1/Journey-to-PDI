{
 "cells": [
  {
   "cell_type": "markdown",
   "metadata": {},
   "source": [
    "# <center>Digital Image Processing - Problem Set 6</center>"
   ]
  },
  {
   "cell_type": "markdown",
   "metadata": {},
   "source": [
    "### Student Names:"
   ]
  },
  {
   "cell_type": "markdown",
   "metadata": {},
   "source": [
    "### Problem 1"
   ]
  },
  {
   "cell_type": "markdown",
   "metadata": {},
   "source": [
    "Write a function that performs image recognition using $k$-Nearest Neighbors ($k$-NN). You can (and are encouraged to) use the functions you have written for previous exercises. Your function should run the following steps:\n",
    "\n",
    "#### 1. Create dataset\n",
    "\n",
    "For this semester we are going to make use of pokemon images found on internet.\n",
    "- Pick 1 pokemon for each of the following pokemon types = [fire, water, electric, grass, ghost]. The complete list is found in the *pokemon.csv* file. **Only first generation pokemons are accepted**\n",
    "- Create two folders: **training_set** and **testing_set**\n",
    "- For each selected pokemon, pick at least 10 different images and store 7 in training folder. The rest must be stored in the testing one.\n",
    "- Resize all images to a 200x200 resolution. Delete the previously saved images in order to preserve space. \n",
    "- If any image pre-processing is necessary, please do.\n",
    "\n",
    "Repeat all steps for all pokemon images.\n",
    "\n",
    "**Example images.**\n",
    "<p>Fire</p>\n",
    "<img style=\"float: left; margin: 0px 0px 15px 15px;\" src=\"example/16.png\" width=\"200\" height=\"200\">\n",
    "<img style=\"float: left; margin: 0px 0px 15px 15px;\" src=\"example/01.png\" width=\"200\" height=\"200\">\n",
    "<img style=\"margin: 0px 0px 15px 15px;\" src=\"example/02.png\" width=\"200\" height=\"200\"><br>\n",
    "\n",
    "<p>Water</p>\n",
    "<img style=\"float: left; margin: 0px 0px 15px 15px;\" src=\"example/blast_1.jpg\" width=\"150\" height=\"150\">\n",
    "<img style=\"margin:0px 0px 15px 15px;\" src=\"example/blast_2.png\" width=\"150\" height=\"150\"><br>\n",
    "\n",
    "\n",
    "#### 2. Compute descriptors\n",
    "\n",
    "- Describe each pokemon in the training set.\n",
    "- You are encouraged to select the most appropiate descriptor seen in class.\n",
    "- Explain the reasons why you picked it. The result must be in one feature vector per image.\n",
    "- Repeat previous steps for all images within the training set.\n",
    "\n",
    "#### 3. Create classifier\n",
    "\n",
    "The $k$-NN classifier predicts a category for each testing example according to the following steps:\n",
    "- Pick an image from the testing set.\n",
    "- Compute the distance from the feature vector associated to the testing example to all the descriptors from the training set.\n",
    "- Select the closest $k$ training examples (that is, the $k$ training examples with shortest distance to our testing image).\n",
    "- Find the category(pokemon) associated to each of the $k$ training examples. This information is created by you in the training set.\n",
    "- Assign a label to the testing image. The assigned label is equal to the most common label among the $k$ closes training examples.\n",
    "\n",
    "#### 4. Perform experiments\n",
    "\n",
    "Repeat this process for all testing examples. Compute the accuracy of the classifier in terms of the number of correctly classified testing examples over the total number of examples in the testing set. Compare the difference in performance between a 1-NN classifier, a 3-NN classifier and a $k$-NN classifier. Summarize the performance of each classifier using confusion matrices.\n",
    "\n",
    "**csv file source:** https://www.kaggle.com/abcsds/pokemon"
   ]
  }
 ],
 "metadata": {
  "kernelspec": {
   "display_name": "Python 3",
   "language": "python",
   "name": "python3"
  },
  "language_info": {
   "codemirror_mode": {
    "name": "ipython",
    "version": 3
   },
   "file_extension": ".py",
   "mimetype": "text/x-python",
   "name": "python",
   "nbconvert_exporter": "python",
   "pygments_lexer": "ipython3",
   "version": "3.5.2"
  }
 },
 "nbformat": 4,
 "nbformat_minor": 1
}
