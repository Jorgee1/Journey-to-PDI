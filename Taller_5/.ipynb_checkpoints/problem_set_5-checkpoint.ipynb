{
 "cells": [
  {
   "cell_type": "markdown",
   "metadata": {},
   "source": [
    "# <center>Digital Image Processing - Problem Set 5</center>"
   ]
  },
  {
   "cell_type": "markdown",
   "metadata": {},
   "source": [
    "### Student Names:"
   ]
  },
  {
   "cell_type": "markdown",
   "metadata": {},
   "source": [
    "### Problem 1"
   ]
  },
  {
   "cell_type": "markdown",
   "metadata": {},
   "source": [
    "Write a function that describes <i>each</i> object in a binary image using the Hu statistical moments. The Hu moments are invariant to rotation, scale and translation. These moments can be defined for <i>each</i> region in a binary image. The OpenCV function to compute these moments is <tt>cv2.HuMoments</tt>."
   ]
  },
  {
   "cell_type": "code",
   "execution_count": null,
   "metadata": {
    "collapsed": true
   },
   "outputs": [],
   "source": [
    "# Cate con K"
   ]
  },
  {
   "cell_type": "markdown",
   "metadata": {},
   "source": [
    "### Problem 2"
   ]
  },
  {
   "cell_type": "markdown",
   "metadata": {},
   "source": [
    "Write a function that detects corners on an image using the Harris corner detection method. You can use the OpenCV built-in functions. Your function should output the $N$ detected corner locations in a $2 \\times N$ matrix. Visualize your results by plotting the corners on top of the input image.  Apply your function to the binary image <tt> shapes.png</tt> and to the grayscale image <tt>face.tif</tt>."
   ]
  },
  {
   "cell_type": "markdown",
   "metadata": {},
   "source": [
    "### Problem 3"
   ]
  },
  {
   "cell_type": "markdown",
   "metadata": {},
   "source": [
    "A company that bottles a variety of industrial chemicals has heard\n",
    "of your success solving imaging problems and hires you to design an approach\n",
    "for detecting when bottles are not full. The bottles appear as shown below\n",
    "as they move along a conveyor line past an automatic\n",
    "filling and capping station. A bottle is considered imperfectly filled when the\n",
    "level of the liquid is below the midway point between the bottom of the neck and\n",
    "the shoulder of the bottle.The shoulder is defined as the region of the bottle\n",
    "where the sides and slanted portion of the bottle intersect. The bottles are\n",
    "moving, but the company has an imaging system equipped with an illumination\n",
    "flash front end that effectively stops motion, so you will be given images that\n",
    "look very close to the sample shown below.\n",
    "\n",
    "<img src=\"files/bottles.png\" />\n",
    "\n",
    "Propose a solution for detecting\n",
    "bottles that are not filled properly. State clearly all assumptions that you\n",
    "make and that are likely to impact the solution you propose. Implement your\n",
    "solution and apply it to the images <tt>bottles.tif, new_bottles.jpg</tt> and <tt> three_bottles.jpg</tt>. Visualize the results\n",
    "of your algorithm by highlighting with false colors\n",
    "the regions that are detected as correctly\n",
    "filled bottles and the regions that are detected as not properly filled bottles."
   ]
  },
  {
   "cell_type": "markdown",
   "metadata": {},
   "source": [
    "### Problem 4"
   ]
  },
  {
   "cell_type": "markdown",
   "metadata": {},
   "source": [
    "Suppose that you are observing objects in the night sky. Suppose that only ‘big’ objects are important to your observation. In this scenario, ‘small’ objects are considered noise. Write a python function that processes the image as follows:\n",
    "\n",
    "1. Use a 15x15 averaging filter to blur the image.\n",
    "\n",
    "2. Apply a threshold of 0.25 to binarize the resulting blurred image.\n",
    "\n",
    "3. Use the binary image to ‘mask’ the noise of the original image: simply perform an element-wise multiplication of the binary image and the original image.\n",
    "\n",
    "4. Use connected component analysis on the binary image to count the number of ‘big’ objects found.\n",
    "\n",
    "The function should take three inputs: an image matrix, the size of the averaging filter and threshold value. Make sure your function displays the intermediary results of each step outlined above.\n",
    "\n",
    "Apply your function to the input image ‘hubble-original.tif’. Try different values of smoothing kernel size and threshold value. Analyze the relationship between number of objects found and smoothing kernel size and threshold value. In particular, you might want to observe the result when using an averaging filter of size n=1 (i.e. no smoothing)."
   ]
  },
  {
   "cell_type": "markdown",
   "metadata": {},
   "source": [
    "### Problem 5"
   ]
  },
  {
   "cell_type": "markdown",
   "metadata": {},
   "source": [
    "Write a Python function that computes the bag-of-features representation of an image. In order to accomplish this, your function will need to perform the following steps:\n",
    "\n",
    "1. Load the input image and apply the SIFT transform to obtain descriptors from its interest points. \n",
    "2. Group descriptors: Your function should use the k-means clustering algorithm to group all input features into k=100 groups.\n",
    "3. Compute a histogram that counts how many times each codebook entry is selected as the closest center.\n",
    "\n",
    "Apply your function to all car images <tt>image_00XX.jpg</tt>. Store the result in a data file.\n"
   ]
  }
 ],
 "metadata": {
  "kernelspec": {
   "display_name": "Python 3",
   "language": "python",
   "name": "python3"
  },
  "language_info": {
   "codemirror_mode": {
    "name": "ipython",
    "version": 3
   },
   "file_extension": ".py",
   "mimetype": "text/x-python",
   "name": "python",
   "nbconvert_exporter": "python",
   "pygments_lexer": "ipython3",
   "version": "3.5.2"
  }
 },
 "nbformat": 4,
 "nbformat_minor": 1
}
